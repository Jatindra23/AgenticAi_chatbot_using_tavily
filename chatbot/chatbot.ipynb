{
 "cells": [
  {
   "cell_type": "code",
   "execution_count": null,
   "id": "c2f265c3",
   "metadata": {},
   "outputs": [],
   "source": []
  },
  {
   "cell_type": "code",
   "execution_count": 1,
   "id": "4ea6ec07",
   "metadata": {},
   "outputs": [],
   "source": [
    "from typing import Annotated\n",
    "\n",
    "from typing_extensions import TypedDict\n",
    "\n",
    "from langgraph.graph import StateGraph,START,END\n",
    "from langgraph.graph.message import add_messages"
   ]
  },
  {
   "cell_type": "code",
   "execution_count": 39,
   "id": "dfaa034d",
   "metadata": {},
   "outputs": [],
   "source": [
    "class State(TypedDict):\n",
    "    #Messages have the type \"list\". The \"add Message functions\"\n",
    "    #in the annotation defines how this state key should be updated.\n",
    "    #In  this case, it appends a message to the list, rather than overwriting it.\n",
    "    messages: Annotated[list[str], add_messages]\n",
    "\n",
    "\n"
   ]
  },
  {
   "cell_type": "code",
   "execution_count": 3,
   "id": "e7194de8",
   "metadata": {},
   "outputs": [
    {
     "data": {
      "text/plain": [
       "True"
      ]
     },
     "execution_count": 3,
     "metadata": {},
     "output_type": "execute_result"
    }
   ],
   "source": [
    "import os\n",
    "from dotenv import load_dotenv\n",
    "load_dotenv()"
   ]
  },
  {
   "cell_type": "code",
   "execution_count": 4,
   "id": "d5e5902f",
   "metadata": {},
   "outputs": [],
   "source": [
    "from langchain_groq import ChatGroq\n",
    "from langchain.chat_models import init_chat_model"
   ]
  },
  {
   "cell_type": "code",
   "execution_count": 5,
   "id": "797bfaf4",
   "metadata": {},
   "outputs": [],
   "source": [
    "llm = ChatGroq(model = \"llama3-8b-8192\")"
   ]
  },
  {
   "cell_type": "code",
   "execution_count": 6,
   "id": "2825141e",
   "metadata": {},
   "outputs": [
    {
     "data": {
      "text/plain": [
       "ChatGroq(client=<groq.resources.chat.completions.Completions object at 0x00000256EC344C20>, async_client=<groq.resources.chat.completions.AsyncCompletions object at 0x00000256EC3457F0>, model_name='llama3-8b-8192', model_kwargs={}, groq_api_key=SecretStr('**********'))"
      ]
     },
     "execution_count": 6,
     "metadata": {},
     "output_type": "execute_result"
    }
   ],
   "source": [
    "llm"
   ]
  },
  {
   "cell_type": "code",
   "execution_count": 7,
   "id": "d2720181",
   "metadata": {},
   "outputs": [],
   "source": [
    "def chatbot(state:State):\n",
    "    #This function is called when the user sends a message.\n",
    "    #It appends the message to the list of messages in the state.\n",
    "    return {\"messages\":[llm.invoke(state[\"messages\"])]}"
   ]
  },
  {
   "cell_type": "code",
   "execution_count": 8,
   "id": "a995ef49",
   "metadata": {},
   "outputs": [],
   "source": [
    "graph_builder = StateGraph(State)\n",
    "#Adding node to the graph\n",
    "#The node is called \"llmchatbot\" and it uses the chatbot function.\n",
    "graph_builder.add_node(\"llmchatbot\",chatbot)\n",
    "\n",
    "#Adding edges to the graph\n",
    "#The START node is connected to the \"llmchatbot\" node.\n",
    "graph_builder.add_edge(START, \"llmchatbot\")\n",
    "\n",
    "\n",
    "#The \"llmchatbot\" node is connected to the END node.\n",
    "graph_builder.add_edge(\"llmchatbot\", END)\n",
    "\n",
    "##Compile the graph\n",
    "graph = graph_builder.compile()"
   ]
  },
  {
   "cell_type": "code",
   "execution_count": 9,
   "id": "f02b6c9e",
   "metadata": {},
   "outputs": [
    {
     "data": {
      "image/png": "[encoded data removed]",
      "text/plain": [
       "<IPython.core.display.Image object>"
      ]
     },
     "metadata": {},
     "output_type": "display_data"
    }
   ],
   "source": [
    "##Visualize the graph\n",
    "from IPython.display import Image, display\n",
    "\n",
    "try:\n",
    "    display(Image(graph.get_graph().draw_mermaid_png()))\n",
    "except Exception:\n",
    "    pass\n"
   ]
  },
  {
   "cell_type": "code",
   "execution_count": 10,
   "id": "75807153",
   "metadata": {},
   "outputs": [],
   "source": [
    "response = graph.invoke({\"messages\": \"Hi, how are you?\"})"
   ]
  },
  {
   "cell_type": "code",
   "execution_count": 11,
   "id": "06e01374",
   "metadata": {},
   "outputs": [
    {
     "data": {
      "text/plain": [
       "{'messages': [HumanMessage(content='Hi, how are you?', additional_kwargs={}, response_metadata={}, id='b5a2d799-675b-4c48-8e78-cd39f00cbaf8'),\n",
       "  AIMessage(content=\"I'm just a language model, I don't have emotions or feelings like humans do, but I'm functioning properly and ready to help with any questions or tasks you may have! How can I assist you today?\", additional_kwargs={}, response_metadata={'token_usage': {'completion_tokens': 44, 'prompt_tokens': 16, 'total_tokens': 60, 'completion_time': 0.034834478, 'prompt_time': 0.002308907, 'queue_time': 0.26612885199999997, 'total_time': 0.037143385}, 'model_name': 'llama3-8b-8192', 'system_fingerprint': 'fp_8dc6ecaf8e', 'finish_reason': 'stop', 'logprobs': None}, id='run--41cf703a-9bd2-456e-9bcb-8e393944f511-0', usage_metadata={'input_tokens': 16, 'output_tokens': 44, 'total_tokens': 60})]}"
      ]
     },
     "execution_count": 11,
     "metadata": {},
     "output_type": "execute_result"
    }
   ],
   "source": [
    "response"
   ]
  },
  {
   "cell_type": "code",
   "execution_count": 12,
   "id": "b82a6677",
   "metadata": {},
   "outputs": [
    {
     "data": {
      "text/plain": [
       "\"I'm just a language model, I don't have emotions or feelings like humans do, but I'm functioning properly and ready to help with any questions or tasks you may have! How can I assist you today?\""
      ]
     },
     "execution_count": 12,
     "metadata": {},
     "output_type": "execute_result"
    }
   ],
   "source": [
    "response[\"messages\"][-1].content"
   ]
  },
  {
   "cell_type": "code",
   "execution_count": 13,
   "id": "c538f42c",
   "metadata": {},
   "outputs": [
    {
     "data": {
      "text/plain": [
       "True"
      ]
     },
     "execution_count": 13,
     "metadata": {},
     "output_type": "execute_result"
    }
   ],
   "source": [
    "load_dotenv()"
   ]
  },
  {
   "cell_type": "markdown",
   "id": "a59cfedf",
   "metadata": {},
   "source": [
    "# Chatbot with tool"
   ]
  },
  {
   "cell_type": "code",
   "execution_count": 14,
   "id": "b09d1a27",
   "metadata": {},
   "outputs": [],
   "source": [
    "from langchain_tavily import TavilySearch\n",
    "tool = TavilySearch(max_results=3)\n",
    "res = tool.invoke(\"What is the capital of France?\")"
   ]
  },
  {
   "cell_type": "code",
   "execution_count": 15,
   "id": "66dfd8bd",
   "metadata": {},
   "outputs": [
    {
     "data": {
      "text/plain": [
       "\"Paris (French pronunciation: ⓘ) is the capital and largest city of France.With an estimated population of 2,048,472 residents in January 2025 [3] in an area of more than 105 km 2 (41 sq mi), [4] Paris is the fourth-most populous city in the European Union and the 30th most densely populated city in the world in 2022. [5] Since the 17th century, Paris has been one of the world's major centres\""
      ]
     },
     "execution_count": 15,
     "metadata": {},
     "output_type": "execute_result"
    }
   ],
   "source": [
    "res[\"results\"][1][\"content\"]"
   ]
  },
  {
   "cell_type": "code",
   "execution_count": 16,
   "id": "54837e1a",
   "metadata": {},
   "outputs": [],
   "source": [
    "##custom functions can be added to the graph\n",
    "def multiply(a:int,b:int) -> int:\n",
    "    \"\"\"A simple function that multiplies two numbers.\n",
    "    Args:\n",
    "        a (int): The first number.\n",
    "        b (int): The second number.\n",
    "        Returns:\n",
    "        int: The product of the two numbers.\"\"\"\n",
    "    return a * b"
   ]
  },
  {
   "cell_type": "code",
   "execution_count": 17,
   "id": "3b25b12b",
   "metadata": {},
   "outputs": [],
   "source": [
    "tools = [tool, multiply]\n",
    "\n",
    "#Adding the tools to the graph\n",
    "llm_with_tools = llm.bind_tools(tools)"
   ]
  },
  {
   "cell_type": "code",
   "execution_count": 18,
   "id": "8259be82",
   "metadata": {},
   "outputs": [
    {
     "data": {
      "text/plain": [
       "RunnableBinding(bound=ChatGroq(client=<groq.resources.chat.completions.Completions object at 0x00000256EC344C20>, async_client=<groq.resources.chat.completions.AsyncCompletions object at 0x00000256EC3457F0>, model_name='llama3-8b-8192', model_kwargs={}, groq_api_key=SecretStr('**********')), kwargs={'tools': [{'type': 'function', 'function': {'name': 'tavily_search', 'description': 'A search engine optimized for comprehensive, accurate, and trusted results. Useful for when you need to answer questions about current events. It not only retrieves URLs and snippets, but offers advanced search depths, domain management, time range filters, and image search, this tool delivers real-time, accurate, and citation-backed results.Input should be a search query.', 'parameters': {'properties': {'query': {'description': 'Search query to look up', 'type': 'string'}, 'include_domains': {'anyOf': [{'items': {'type': 'string'}, 'type': 'array'}, {'type': 'null'}], 'default': [], 'description': 'A list of domains to restrict search results to.\\n\\n        Use this parameter when:\\n        1. The user explicitly requests information from specific websites (e.g., \"Find climate data from nasa.gov\")\\n        2. The user mentions an organization or company without specifying the domain (e.g., \"Find information about iPhones from Apple\")\\n\\n        In both cases, you should determine the appropriate domains (e.g., [\"nasa.gov\"] or [\"apple.com\"]) and set this parameter.\\n\\n        Results will ONLY come from the specified domains - no other sources will be included.\\n        Default is None (no domain restriction).\\n        '}, 'exclude_domains': {'anyOf': [{'items': {'type': 'string'}, 'type': 'array'}, {'type': 'null'}], 'default': [], 'description': 'A list of domains to exclude from search results.\\n\\n        Use this parameter when:\\n        1. The user explicitly requests to avoid certain websites (e.g., \"Find information about climate change but not from twitter.com\")\\n        2. The user mentions not wanting results from specific organizations without naming the domain (e.g., \"Find phone reviews but nothing from Apple\")\\n\\n        In both cases, you should determine the appropriate domains to exclude (e.g., [\"twitter.com\"] or [\"apple.com\"]) and set this parameter.\\n\\n        Results will filter out all content from the specified domains.\\n        Default is None (no domain exclusion).\\n        '}, 'search_depth': {'anyOf': [{'enum': ['basic', 'advanced'], 'type': 'string'}, {'type': 'null'}], 'default': 'basic', 'description': 'Controls search thoroughness and result comprehensiveness.\\n    \\n        Use \"basic\" for simple queries requiring quick, straightforward answers.\\n        \\n        Use \"advanced\" (default) for complex queries, specialized topics, \\n        rare information, or when in-depth analysis is needed.\\n        '}, 'include_images': {'anyOf': [{'type': 'boolean'}, {'type': 'null'}], 'default': False, 'description': 'Determines if the search returns relevant images along with text results.\\n   \\n        Set to True when the user explicitly requests visuals or when images would \\n        significantly enhance understanding (e.g., \"Show me what black holes look like,\" \\n        \"Find pictures of Renaissance art\").\\n        \\n        Leave as False (default) for most informational queries where text is sufficient.\\n        '}, 'time_range': {'anyOf': [{'enum': ['day', 'week', 'month', 'year'], 'type': 'string'}, {'type': 'null'}], 'default': None, 'description': 'Limits results to content published within a specific timeframe.\\n        \\n        ONLY set this when the user explicitly mentions a time period \\n        (e.g., \"latest AI news,\" \"articles from last week\").\\n        \\n        For less popular or niche topics, use broader time ranges \\n        (\"month\" or \"year\") to ensure sufficient relevant results.\\n   \\n        Options: \"day\" (24h), \"week\" (7d), \"month\" (30d), \"year\" (365d).\\n        \\n        Default is None.\\n        '}, 'topic': {'anyOf': [{'enum': ['general', 'news', 'finance'], 'type': 'string'}, {'type': 'null'}], 'default': 'general', 'description': 'Specifies search category for optimized results.\\n   \\n        Use \"general\" (default) for most queries, INCLUDING those with terms like \\n        \"latest,\" \"newest,\" or \"recent\" when referring to general information.\\n\\n        Use \"finance\" for markets, investments, economic data, or financial news.\\n\\n        Use \"news\" ONLY for politics, sports, or major current events covered by \\n        mainstream media - NOT simply because a query asks for \"new\" information.\\n        '}}, 'required': ['query'], 'type': 'object'}}}, {'type': 'function', 'function': {'name': 'multiply', 'description': 'A simple function that multiplies two numbers.\\nArgs:\\n    a (int): The first number.\\n    b (int): The second number.\\n    Returns:\\n    int: The product of the two numbers.', 'parameters': {'properties': {'a': {'type': 'integer'}, 'b': {'type': 'integer'}}, 'required': ['a', 'b'], 'type': 'object'}}}]}, config={}, config_factories=[])"
      ]
     },
     "execution_count": 18,
     "metadata": {},
     "output_type": "execute_result"
    }
   ],
   "source": [
    "llm_with_tools"
   ]
  },
  {
   "cell_type": "code",
   "execution_count": 22,
   "id": "64926a93",
   "metadata": {},
   "outputs": [],
   "source": [
    "## StateGraph with tools\n",
    "from langgraph.graph import StateGraph, START, END\n",
    "from langgraph.prebuilt import ToolNode\n",
    "from langgraph.prebuilt import tools_condition\n",
    "\n",
    "# Node Definition\n",
    "def llm_calling_tool(state: State):\n",
    "    return {\n",
    "        \"messages\": [\n",
    "            llm_with_tools.invoke(\n",
    "                state[\"messages\"]   \n",
    "            )\n",
    "        ]\n",
    "    }\n",
    "\n",
    "## Create a new StateGraph with the same state type\n",
    "builder = StateGraph(State)\n",
    "builder.add_node(\"llm_calling_tool\",llm_calling_tool)\n",
    "builder.add_node(\"tools\",ToolNode(tools))\n",
    "\n",
    "# Add edges to the graph\n",
    "builder.add_edge(START, \"llm_calling_tool\")\n",
    "builder.add_conditional_edges(\n",
    "    \"llm_calling_tool\", # Call the LLM node\n",
    "    # If the latest message (result) from the assistant is a tool call, -> tools_condition route to the tools node\n",
    "    # If the latest message (result) from the assistant is not a tool call, -> END\n",
    "    tools_condition  \n",
    ")\n",
    "builder.add_edge(\"tools\", END)\n",
    "\n",
    "# Compile the graph\n",
    "graph_with_tools = builder.compile()\n"
   ]
  },
  {
   "cell_type": "code",
   "execution_count": 23,
   "id": "d52056ca",
   "metadata": {},
   "outputs": [
    {
     "data": {
      "image/png": "[encoded data removed]",
      "text/plain": [
       "<IPython.core.display.Image object>"
      ]
     },
     "metadata": {},
     "output_type": "display_data"
    }
   ],
   "source": [
    "from IPython.display import Image, display\n",
    "try:\n",
    "    display(Image(graph_with_tools.get_graph().draw_mermaid_png()))\n",
    "except Exception:\n",
    "    pass"
   ]
  },
  {
   "cell_type": "code",
   "execution_count": 24,
   "id": "119f48fb",
   "metadata": {},
   "outputs": [
    {
     "data": {
      "text/plain": [
       "{'messages': [HumanMessage(content='reent news on ai', additional_kwargs={}, response_metadata={}, id='39c3e996-7a6d-45ac-a45a-af16cf2737fc'),\n",
       "  AIMessage(content='', additional_kwargs={'tool_calls': [{'id': '3q52x9edz', 'function': {'arguments': '{\"query\":\"recent news on AI\",\"search_depth\":\"advanced\",\"time_range\":\"day\",\"topic\":\"general\"}', 'name': 'tavily_search'}, 'type': 'function'}]}, response_metadata={'token_usage': {'completion_tokens': 94, 'prompt_tokens': 2219, 'total_tokens': 2313, 'completion_time': 0.075203697, 'prompt_time': 0.246254223, 'queue_time': 0.269179072, 'total_time': 0.32145792}, 'model_name': 'llama3-8b-8192', 'system_fingerprint': 'fp_8af39bf2ae', 'finish_reason': 'tool_calls', 'logprobs': None}, id='run--38d7f2f8-f80c-4fd7-97c6-2d4b8ca7e50e-0', tool_calls=[{'name': 'tavily_search', 'args': {'query': 'recent news on AI', 'search_depth': 'advanced', 'time_range': 'day', 'topic': 'general'}, 'id': '3q52x9edz', 'type': 'tool_call'}], usage_metadata={'input_tokens': 2219, 'output_tokens': 94, 'total_tokens': 2313}),\n",
       "  ToolMessage(content='{\"query\": \"recent news on AI\", \"follow_up_questions\": null, \"answer\": null, \"images\": [], \"results\": [{\"url\": \"https://www.sciencedaily.com/news/computers_math/artificial_intelligence/\", \"title\": \"Artificial Intelligence News - ScienceDaily\", \"content\": \"![ScienceDaily](/images/sd-logo.png)\\\\n\\\\n# Artificial Intelligence News\\\\n\\\\n## Top Headlines\\\\n\\\\n## Latest Headlines\\\\n\\\\n## Earlier Headlines\\\\n\\\\n### Wednesday, May 21, 2025\\\\n\\\\n### Monday, May 19, 2025\\\\n\\\\n### Thursday, May 15, 2025\\\\n\\\\n### Wednesday, May 14, 2025\\\\n\\\\n### Tuesday, May 13, 2025\\\\n\\\\n### Monday, May 12, 2025\\\\n\\\\n### Thursday, May 8, 2025\\\\n\\\\n### Wednesday, May 7, 2025\\\\n\\\\n### Tuesday, May 6, 2025\\\\n\\\\n### Monday, May 5, 2025\\\\n\\\\n### Thursday, May 1, 2025\\\\n\\\\n### Wednesday, April 30, 2025\\\\n\\\\n### Monday, April 28, 2025 [...] ### Friday, April 25, 2025\\\\n\\\\n### Thursday, April 24, 2025\\\\n\\\\n### Wednesday, April 23, 2025\\\\n\\\\n### Tuesday, April 22, 2025\\\\n\\\\n### Monday, April 21, 2025\\\\n\\\\n### Wednesday, April 16, 2025\\\\n\\\\n### Tuesday, April 15, 2025\\\\n\\\\n### Monday, April 14, 2025\\\\n\\\\n### Thursday, April 10, 2025\\\\n\\\\n### Wednesday, April 9, 2025\\\\n\\\\n### Tuesday, April 8, 2025\\\\n\\\\n### Monday, April 7, 2025\\\\n\\\\n### Friday, April 4, 2025\\\\n\\\\n### Thursday, April 3, 2025\\\\n\\\\n### Wednesday, April 2, 2025\\\\n\\\\n### Monday, March 31, 2025\\\\n\\\\n### Friday, March 28, 2025 [...] ### Thursday, March 27, 2025\\\\n\\\\n### Wednesday, March 26, 2025\\\\n\\\\n### Tuesday, March 25, 2025\\\\n\\\\n### Thursday, March 20, 2025\\\\n\\\\n### Wednesday, March 19, 2025\\\\n\\\\n### Tuesday, March 18, 2025\\\\n\\\\n### Monday, March 17, 2025\\\\n\\\\n## [Breaking](/breaking/)\\\\n\\\\n## Trending Topics\\\\n\\\\n## Strange & Offbeat\\\\n\\\\nStay informed with ScienceDaily\\'s free email newsletter, updated daily and weekly. Or view our many newsfeeds in your RSS reader:\\\\n\\\\nKeep up to date with the latest news from ScienceDaily via social networks:\", \"score\": 0.79580134, \"raw_content\": null}, {\"url\": \"https://www.artificialintelligence-news.com/\", \"title\": \"AI News | Latest AI News, Analysis & Events\", \"content\": \"SoftBank chief: Forget AGI, ASI will be here within 10 years · Salesforce Agentforce 3 brings visibility to AI agents · The OpenAI Files: Ex-staff claim profit\", \"score\": 0.6453216, \"raw_content\": null}, {\"url\": \"https://www.nytimes.com/spotlight/artificial-intelligence\", \"title\": \"Artificial Intelligence - The New York Times\", \"content\": \"As countries race to power artificial intelligence, a yawning gap is opening around the world.\\\\n\\\\n\\xa0By Adam SatarianoPaul MozurKarl Russell and June Kim\\\\n\\\\n![](https://static01.nyt.com/images/2025/06/20/multimedia/2025-05-06-ai-compute-regions-index/2025-05-06-ai-compute-regions-index-square640-v10.png?auto=webp)\\\\n\\\\n[Can You Choose an A.I. Model That Harms the Planet Less?](/2025/06/19/climate/ai-emissions-chatbot-accuracy.html) [...] [A.I. Can Already See You in Ways You Can’t See Yourself](/interactive/2025/06/17/magazine/ai-human-analysis-face-diseases.html)\\\\n\\\\nSome of the technology\\'s most startling new abilities lie in its perception of humans.\\\\n\\\\n\\xa0By Charley Locke\\\\n\\\\n![](https://static01.nyt.com/images/2025/06/22/magazine/22mag-haisu-static/22mag-haisu-static-square640.jpg?auto=webp)\\\\n\\\\n[The A.I. Race Is Splitting the World Into Haves and Have-Nots](/interactive/2025/06/23/technology/ai-computing-global-divide.html) [...] ![Recruiters say they are seeing a surge of résumés that they suspect have been generated using ChatGPT.](https://static01.nyt.com/images/2025/06/21/business/21DB-AI-Applicants/21DB-AI-Applicants-square640-v2.jpg?auto=webp)\\\\n\\\\n[Kids Are in Crisis. Could Chatbot Therapy Help?](/2025/06/20/magazine/ai-chatbot-therapy.html)\\\\n\\\\nA number of companies are building A.I. apps for patients to talk to when human therapists aren’t available.\\\\n\\\\n\\xa0By Kim Tingley\", \"score\": 0.63316137, \"raw_content\": null}], \"response_time\": 3.69}', name='tavily_search', id='1c7faf09-be8e-4d91-a491-d9ef79ef0ec2', tool_call_id='3q52x9edz')]}"
      ]
     },
     "execution_count": 24,
     "metadata": {},
     "output_type": "execute_result"
    }
   ],
   "source": [
    "graph_with_tools.invoke({\"messages\": \"reent news on ai\"})"
   ]
  },
  {
   "cell_type": "code",
   "execution_count": 25,
   "id": "fdaed1f0",
   "metadata": {},
   "outputs": [],
   "source": [
    "response = graph_with_tools.invoke({\"messages\": \"what is 5 multiplied by 6?\"})"
   ]
  },
  {
   "cell_type": "code",
   "execution_count": 26,
   "id": "faeaf73d",
   "metadata": {},
   "outputs": [
    {
     "data": {
      "text/plain": [
       "{'messages': [HumanMessage(content='what is 5 multiplied by 6?', additional_kwargs={}, response_metadata={}, id='182f070b-739a-464e-a6a1-4a489634578f'),\n",
       "  AIMessage(content='', additional_kwargs={'tool_calls': [{'id': 'b38yf77zy', 'function': {'arguments': '{\"a\":5,\"b\":6}', 'name': 'multiply'}, 'type': 'function'}]}, response_metadata={'token_usage': {'completion_tokens': 72, 'prompt_tokens': 2223, 'total_tokens': 2295, 'completion_time': 0.09258317, 'prompt_time': 0.247590666, 'queue_time': 0.27530866600000004, 'total_time': 0.340173836}, 'model_name': 'llama3-8b-8192', 'system_fingerprint': 'fp_8b7c3a83f7', 'finish_reason': 'tool_calls', 'logprobs': None}, id='run--9c0ece94-0b5c-4f73-af45-96b3cfc79919-0', tool_calls=[{'name': 'multiply', 'args': {'a': 5, 'b': 6}, 'id': 'b38yf77zy', 'type': 'tool_call'}], usage_metadata={'input_tokens': 2223, 'output_tokens': 72, 'total_tokens': 2295}),\n",
       "  ToolMessage(content='30', name='multiply', id='cd0bb0b4-2d95-464b-b4f2-800682c3796f', tool_call_id='b38yf77zy')]}"
      ]
     },
     "execution_count": 26,
     "metadata": {},
     "output_type": "execute_result"
    }
   ],
   "source": [
    "response"
   ]
  },
  {
   "cell_type": "code",
   "execution_count": 29,
   "id": "ed8cd57f",
   "metadata": {},
   "outputs": [],
   "source": [
    "response = graph_with_tools.invoke({\"messages\": \"what is the top trending news  what is 9 multiplied by 3 and ?\"})"
   ]
  },
  {
   "cell_type": "code",
   "execution_count": 30,
   "id": "b493ee9d",
   "metadata": {},
   "outputs": [
    {
     "data": {
      "text/plain": [
       "{'messages': [HumanMessage(content='what is the top trending news  what is 9 multiplied by 3 and ?', additional_kwargs={}, response_metadata={}, id='e045d75e-03cc-4109-8f7e-d20198afc83d'),\n",
       "  AIMessage(content='', additional_kwargs={'tool_calls': [{'id': 'zn5q5s5vv', 'function': {'arguments': '{\"query\":\"top trending news\"}', 'name': 'tavily_search'}, 'type': 'function'}, {'id': 'edfrh0gqx', 'function': {'arguments': '{\"a\":9,\"b\":3}', 'name': 'multiply'}, 'type': 'function'}]}, response_metadata={'token_usage': {'completion_tokens': 123, 'prompt_tokens': 2231, 'total_tokens': 2354, 'completion_time': 0.099229016, 'prompt_time': 0.247027245, 'queue_time': 0.26863958000000004, 'total_time': 0.346256261}, 'model_name': 'llama3-8b-8192', 'system_fingerprint': 'fp_8dc6ecaf8e', 'finish_reason': 'tool_calls', 'logprobs': None}, id='run--686dcbb3-3ed3-42ce-9ab9-d19374c7eddd-0', tool_calls=[{'name': 'tavily_search', 'args': {'query': 'top trending news'}, 'id': 'zn5q5s5vv', 'type': 'tool_call'}, {'name': 'multiply', 'args': {'a': 9, 'b': 3}, 'id': 'edfrh0gqx', 'type': 'tool_call'}], usage_metadata={'input_tokens': 2231, 'output_tokens': 123, 'total_tokens': 2354}),\n",
       "  ToolMessage(content='{\"query\": \"top trending news\", \"follow_up_questions\": null, \"answer\": null, \"images\": [], \"results\": [{\"title\": \"Trending News | What\\'s New Around the World | AP News\", \"url\": \"https://apnews.com/hub/trending-news\", \"content\": \"Image 1: AP Logo *   AP Images Spotlight Blog *   AP Images Spotlight Blog Image 5: AP Logo *   AP Images Spotlight Blog *   AP Images Spotlight Blog Image 25: This combination of images shows the Rosebud sled from the film “Citizen Kane,\\\\\" left, a whip wielded by Harrison Ford in “Indiana Jones and the Last Crusade,\\\\\" center, and the knit hat worn by Macaulay Culkin in the film \\\\\"Home Alone.\\\\\" (Heritage Auctions via AP) Image 42: In this Friday Jan. 25, 2019, file photo is the air traffic control tower at LaGuardia Airport in New York. (AP Photo/File) *   AP Images Spotlight Blog *   AP Images Spotlight Blog\", \"score\": 0.39236066, \"raw_content\": null}, {\"title\": \"Breaking News, Latest News and Videos | CNN\", \"url\": \"https://www.cnn.com/\", \"content\": \"*   CNN10 *   About CNN 6 hr 1 min agoTrump pushes back on CNN report about intel assessment suggesting strikes on Iran didn\\'t destroy nuclear sites Image 15: 20250620_MAHA.jpg • For Subscribers For Subscribers Photo illustration by Leah Abucayan/CNN/Getty Images/Courtesy of Steak \\'n Shake/Courtesy of Kraft HeinzFor Subscribers RFK Jr. wants to ‘Make America Healthy Again.’ These food brands are lining up for his blessing More from CNN Image 33: CNN Games card_Sudoblock.jpg • Sudoblock Sudoblock CNNSudoblock Sudoku + Blocks = addictive tile-matching puzzle Image 35: CNN Games-card-02.jpg • Weekly news quiz Weekly news quiz cnnWeekly news quiz What do you remember from the week that was? *   CNN10 *   About CNN\", \"score\": 0.13192096, \"raw_content\": null}, {\"title\": \"Google News - Headlines\", \"url\": \"https://news.google.com/topics/CAAqJggKIiBDQkFTRWdvSUwyMHZNRFZxYUdjU0FtVnVHZ0pWVXlnQVAB\", \"content\": \"Warning: Target URL returned error 429: Too Many Requests https://news.google.com/topics/CAAqJggKIiBDQkFTRWdvSUwyMHZNRFZxYUdjU0FtVnVHZ0pWVXlnQVAB This page checks to see if it\\'s really you sending the requests, and not a robot. This page appears when Google automatically detects requests coming from your computer network which appear to be in violation of the Terms of Service. This traffic may have been sent by malicious software, a browser plug-in, or a script that sends automated requests. If you share your network connection, ask your administrator for help — a different computer using the same IP address may be responsible. Sometimes you may be asked to solve the CAPTCHA if you are using advanced terms that robots are known to use, or sending requests very quickly. URL: https://news.google.com/topics/CAAqJggKIiBDQkFTRWdvSUwyMHZNRFZxYUdjU0FtVnVHZ0pWVXlnQVAB\", \"score\": 0.11159915, \"raw_content\": null}], \"response_time\": 1.67}', name='tavily_search', id='9dc9d862-9ba2-456f-bdaf-fca412c87d08', tool_call_id='zn5q5s5vv'),\n",
       "  ToolMessage(content='27', name='multiply', id='d6f4ac2d-e7c2-4da6-8f1e-dc0a272d864c', tool_call_id='edfrh0gqx')]}"
      ]
     },
     "execution_count": 30,
     "metadata": {},
     "output_type": "execute_result"
    }
   ],
   "source": [
    "response"
   ]
  },
  {
   "cell_type": "code",
   "execution_count": 31,
   "id": "1c88d612",
   "metadata": {},
   "outputs": [],
   "source": [
    "response = graph_with_tools.invoke({\"messages\": \"What is the news update on iran and israel and what is 5 multiply by5?\"})"
   ]
  },
  {
   "cell_type": "code",
   "execution_count": 32,
   "id": "94498d87",
   "metadata": {},
   "outputs": [
    {
     "name": "stdout",
     "output_type": "stream",
     "text": [
      "================================\u001b[1m Human Message \u001b[0m=================================\n",
      "\n",
      "What is the news update on iran and israel and what is 5 multiply by5?\n",
      "==================================\u001b[1m Ai Message \u001b[0m==================================\n",
      "Tool Calls:\n",
      "  tavily_search (w2wbhzrxr)\n",
      " Call ID: w2wbhzrxr\n",
      "  Args:\n",
      "    query: latest news on iran and israel\n",
      "    search_depth: advanced\n",
      "    topic: news\n",
      "  multiply (gmjqz1zzb)\n",
      " Call ID: gmjqz1zzb\n",
      "  Args:\n",
      "    a: 5\n",
      "    b: 5\n",
      "=================================\u001b[1m Tool Message \u001b[0m=================================\n",
      "Name: tavily_search\n",
      "\n",
      "{\"query\": \"latest news on iran and israel\", \"follow_up_questions\": null, \"answer\": null, \"images\": [], \"results\": [{\"url\": \"https://www.understandingwar.org/backgrounder/iran-update-special-report-june-24-2025-morning-edition\", \"title\": \"Iran Update Special Report, June 24, 2025, Morning Edition - Institute for the Study of War\", \"score\": 0.8003337, \"published_date\": \"Tue, 24 Jun 2025 16:36:27 GMT\", \"content\": \"The ceasefire between Iran and Israel appears to be holding despite both Israeli and Iranian claims of violations.US President Donald Trump announced on June 23 that Iran and Israel agreed to a ceasefire. Trump said that Iran would halt strikes on Israel 12 hours before Israel stopped attacks on Iran. It appears that Iran halted strikes on Israel at 12:00 AM ET on June 24 whereas Israel halted attacks at 8:30 PM ET on June 23. Israeli Prime Minister Benjamin Netanyahu and Iranian Foreign [...] conversation with Trump. Netanyahu told the Israeli cabinet and senior security officials that the IDF achieved all of its objectives in its campaign against Iran. Iran has not conducted an attack on Israel since approximately 3:25 AM ET on June 24. Israel has not conducted an attack on Iran since approximately 7:35 AM ET on June 24. [...] The ceasefire between Iran and Israel appears to be holding despite both Israeli and Iranian claims of violations. Israel has responded to perceived Iranian violations of the ceasefire but has not resumed its campaign at this time.\", \"raw_content\": null}, {\"url\": \"https://understandingwar.org/backgrounder/iran-update-special-report-june-24-2025-morning-edition\", \"title\": \"Iran Update Special Report, June 24, 2025, Morning Edition - Institute for the Study of War\", \"score\": 0.8003337, \"published_date\": \"Tue, 24 Jun 2025 16:36:27 GMT\", \"content\": \"The ceasefire between Iran and Israel appears to be holding despite both Israeli and Iranian claims of violations.US President Donald Trump announced on June 23 that Iran and Israel agreed to a ceasefire. Trump said that Iran would halt strikes on Israel 12 hours before Israel stopped attacks on Iran. It appears that Iran halted strikes on Israel at 12:00 AM ET on June 24 whereas Israel halted attacks at 8:30 PM ET on June 23. Israeli Prime Minister Benjamin Netanyahu and Iranian Foreign [...] conversation with Trump. Netanyahu told the Israeli cabinet and senior security officials that the IDF achieved all of its objectives in its campaign against Iran. Iran has not conducted an attack on Israel since approximately 3:25 AM ET on June 24. Israel has not conducted an attack on Iran since approximately 7:35 AM ET on June 24. [...] The ceasefire between Iran and Israel appears to be holding despite both Israeli and Iranian claims of violations. Israel has responded to perceived Iranian violations of the ceasefire but has not resumed its campaign at this time.\", \"raw_content\": null}, {\"url\": \"https://www.huffpost.com/entry/israel-iran-accept-ceasefire_n_685a44dae4b0c75437065c9d\", \"title\": \"Tehran Denies Firing Missiles At Israel After Ceasefire Started, Iran State TV Says - HuffPost\", \"score\": 0.77650476, \"published_date\": \"Tue, 24 Jun 2025 06:47:10 GMT\", \"content\": \"Published Time: 2025-06-24T06:47:10Z\\n\\nTrump Says Both Iran And Israel Violated Ceasefire | HuffPost Latest News\\n\\n===============\\n\\nSkip to Main Content\\n\\n×\\n\\nImage 1: We Are Not Afraid\\n\\nWE'RE NOT\\n\\nAFRAID\\n\\nProtect the free press\\n\\nSupport HuffPost\\nAlready contributed? Log in to hide these messages.\\n\\nMain Menu\\n---------\\n\\nU.S. Edition\\n\\nNews\\n--------------------------------------\\n\\nU.S. NewsWorld NewsBusinessEnvironmentHealthSocial JusticeCrime\\n\\nPolitics\\n--------------------------------------------------\", \"raw_content\": null}], \"response_time\": 1.18}\n",
      "=================================\u001b[1m Tool Message \u001b[0m=================================\n",
      "Name: multiply\n",
      "\n",
      "25\n"
     ]
    }
   ],
   "source": [
    "for message in response[\"messages\"]:\n",
    "    message.pretty_print()"
   ]
  },
  {
   "cell_type": "markdown",
   "id": "4e27aaf0",
   "metadata": {},
   "source": [
    "# Adding Memmory"
   ]
  },
  {
   "cell_type": "code",
   "execution_count": 33,
   "id": "77006186",
   "metadata": {},
   "outputs": [],
   "source": [
    "## StateGraph with tools\n",
    "from langgraph.graph import StateGraph, START, END\n",
    "from langgraph.prebuilt import ToolNode\n",
    "from langgraph.prebuilt import tools_condition\n",
    "from langgraph.checkpoint.memory import MemorySaver\n",
    "\n",
    "memory = MemorySaver()\n",
    "\n",
    "# Node Definition\n",
    "def llm_calling_tool(state: State):\n",
    "    return {\n",
    "        \"messages\": [\n",
    "            llm_with_tools.invoke(\n",
    "                state[\"messages\"]   \n",
    "            )\n",
    "        ]\n",
    "    }\n",
    "\n",
    "## Create a new StateGraph with the same state type\n",
    "builder = StateGraph(State)\n",
    "builder.add_node(\"llm_calling_tool\",llm_calling_tool)\n",
    "builder.add_node(\"tools\",ToolNode(tools))\n",
    "\n",
    "# Add edges to the graph\n",
    "builder.add_edge(START, \"llm_calling_tool\")\n",
    "builder.add_conditional_edges(\n",
    "    \"llm_calling_tool\", # Call the LLM node\n",
    "    # If the latest message (result) from the assistant is a tool call, -> tools_condition route to the tools node\n",
    "    # If the latest message (result) from the assistant is not a tool call, -> END\n",
    "    tools_condition  \n",
    ")\n",
    "builder.add_edge(\"tools\", END)\n",
    "\n",
    "# Compile the graph\n",
    "graph_with_tools = builder.compile(checkpointer=memory)\n"
   ]
  },
  {
   "cell_type": "code",
   "execution_count": 34,
   "id": "c042c80b",
   "metadata": {},
   "outputs": [
    {
     "data": {
      "text/plain": [
       "{'messages': [HumanMessage(content='my name is jatindra paul', additional_kwargs={}, response_metadata={}, id='18b733d2-559d-4de7-a999-de38aa74659c'),\n",
       "  AIMessage(content='Nice to meet you, Jatindra Paul!', additional_kwargs={}, response_metadata={'token_usage': {'completion_tokens': 12, 'prompt_tokens': 2222, 'total_tokens': 2234, 'completion_time': 0.02336613, 'prompt_time': 0.248313073, 'queue_time': 0.272746015, 'total_time': 0.271679203}, 'model_name': 'llama3-8b-8192', 'system_fingerprint': 'fp_8b7c3a83f7', 'finish_reason': 'stop', 'logprobs': None}, id='run--e3fa3cc3-ac35-4867-8343-f57d64bb0f81-0', usage_metadata={'input_tokens': 2222, 'output_tokens': 12, 'total_tokens': 2234})]}"
      ]
     },
     "execution_count": 34,
     "metadata": {},
     "output_type": "execute_result"
    }
   ],
   "source": [
    "config = {\"configurable\":{\"thread_id\":\"1\"}}\n",
    "response = graph_with_tools.invoke({\"messages\": \"my name is jatindra paul\"}, config=config)\n",
    "response"
   ]
  },
  {
   "cell_type": "code",
   "execution_count": 35,
   "id": "85698d5f",
   "metadata": {},
   "outputs": [
    {
     "data": {
      "text/plain": [
       "'Nice to meet you, Jatindra Paul!'"
      ]
     },
     "execution_count": 35,
     "metadata": {},
     "output_type": "execute_result"
    }
   ],
   "source": [
    "response[\"messages\"][-1].content"
   ]
  },
  {
   "cell_type": "code",
   "execution_count": 36,
   "id": "80808e8d",
   "metadata": {},
   "outputs": [
    {
     "data": {
      "text/plain": [
       "{'messages': [HumanMessage(content='my name is jatindra paul', additional_kwargs={}, response_metadata={}, id='18b733d2-559d-4de7-a999-de38aa74659c'),\n",
       "  AIMessage(content='Nice to meet you, Jatindra Paul!', additional_kwargs={}, response_metadata={'token_usage': {'completion_tokens': 12, 'prompt_tokens': 2222, 'total_tokens': 2234, 'completion_time': 0.02336613, 'prompt_time': 0.248313073, 'queue_time': 0.272746015, 'total_time': 0.271679203}, 'model_name': 'llama3-8b-8192', 'system_fingerprint': 'fp_8b7c3a83f7', 'finish_reason': 'stop', 'logprobs': None}, id='run--e3fa3cc3-ac35-4867-8343-f57d64bb0f81-0', usage_metadata={'input_tokens': 2222, 'output_tokens': 12, 'total_tokens': 2234}),\n",
       "  HumanMessage(content='what is my name?', additional_kwargs={}, response_metadata={}, id='236114a2-e25c-4ba2-a517-76491cdfcc40'),\n",
       "  AIMessage(content='Your name is Jatindra Paul.', additional_kwargs={}, response_metadata={'token_usage': {'completion_tokens': 10, 'prompt_tokens': 2248, 'total_tokens': 2258, 'completion_time': 0.019991197, 'prompt_time': 0.254918893, 'queue_time': 0.448052053, 'total_time': 0.27491009}, 'model_name': 'llama3-8b-8192', 'system_fingerprint': 'fp_8b7c3a83f7', 'finish_reason': 'stop', 'logprobs': None}, id='run--af05a722-cb43-4ab2-8aa2-4a769dd10828-0', usage_metadata={'input_tokens': 2248, 'output_tokens': 10, 'total_tokens': 2258})]}"
      ]
     },
     "execution_count": 36,
     "metadata": {},
     "output_type": "execute_result"
    }
   ],
   "source": [
    "response = graph_with_tools.invoke({\"messages\": \"what is my name?\"}, config=config)\n",
    "response"
   ]
  },
  {
   "cell_type": "code",
   "execution_count": 37,
   "id": "8d5cda70",
   "metadata": {},
   "outputs": [
    {
     "data": {
      "text/plain": [
       "'Your name is Jatindra Paul.'"
      ]
     },
     "execution_count": 37,
     "metadata": {},
     "output_type": "execute_result"
    }
   ],
   "source": [
    "response[\"messages\"][-1].content"
   ]
  },
  {
   "cell_type": "markdown",
   "id": "7b14d242",
   "metadata": {},
   "source": [
    "# Streaming"
   ]
  },
  {
   "cell_type": "code",
   "execution_count": 38,
   "id": "4cd29ce6",
   "metadata": {},
   "outputs": [],
   "source": [
    "from langgraph.checkpoint.memory import MemorySaver\n",
    "memory = MemorySaver()"
   ]
  },
  {
   "cell_type": "code",
   "execution_count": 41,
   "id": "ad8cbc59",
   "metadata": {},
   "outputs": [],
   "source": [
    "def superbot(state:State):\n",
    "    return {\"messages\":[llm.invoke(state[\"messages\"])]}"
   ]
  },
  {
   "cell_type": "code",
   "execution_count": 42,
   "id": "30f9ef20",
   "metadata": {},
   "outputs": [
    {
     "data": {
      "image/png": "[encoded data removed]",
      "text/plain": [
       "<IPython.core.display.Image object>"
      ]
     },
     "metadata": {},
     "output_type": "display_data"
    }
   ],
   "source": [
    "graph = StateGraph(State)\n",
    "\n",
    "##node definition\n",
    "graph.add_node(\"superbot\", superbot)\n",
    "\n",
    "# Add edges to the graph\n",
    "graph.add_edge(START, \"superbot\")\n",
    "graph.add_edge(\"superbot\", END)\n",
    "\n",
    "# Compile the graph with memory\n",
    "graph_with_memory = graph.compile(checkpointer=memory)\n",
    "\n",
    "##display the graph\n",
    "from IPython.display import Image, display\n",
    "try:\n",
    "    display(Image(graph_with_memory.get_graph().draw_mermaid_png()))\n",
    "except Exception:\n",
    "    pass"
   ]
  },
  {
   "cell_type": "code",
   "execution_count": 50,
   "id": "3cab47c9",
   "metadata": {},
   "outputs": [
    {
     "data": {
      "text/plain": [
       "{'messages': [HumanMessage(content='hey, my name is jatindra paul and i like basketball', additional_kwargs={}, response_metadata={}, id='338474c0-8c11-4c24-94d8-068a183357bb'),\n",
       "  AIMessage(content=\"Hey Jatindra Paul! Nice to meet you! That's awesome that you like basketball! What's your favorite team or player? Do you play basketball yourself or just enjoy watching it?\", additional_kwargs={}, response_metadata={'token_usage': {'completion_tokens': 40, 'prompt_tokens': 24, 'total_tokens': 64, 'completion_time': 0.067617506, 'prompt_time': 0.012709303, 'queue_time': 0.716732554, 'total_time': 0.080326809}, 'model_name': 'llama3-8b-8192', 'system_fingerprint': 'fp_8dc6ecaf8e', 'finish_reason': 'stop', 'logprobs': None}, id='run--6d83c1f6-25fe-44f7-b2e3-27cea1397c41-0', usage_metadata={'input_tokens': 24, 'output_tokens': 40, 'total_tokens': 64}),\n",
       "  HumanMessage(content='hey, my name is jatindra paul and i like basketball', additional_kwargs={}, response_metadata={}, id='ec7dc1a1-90bc-4703-b928-8cf7caf01aef'),\n",
       "  AIMessage(content=\"Hey Jatindra Paul! Nice to meet you again! So, you like basketball, huh? Do you have a favorite NBA team or player? Are you more into watching the games or playing them yourself? Let's talk hoops!\", additional_kwargs={}, response_metadata={'token_usage': {'completion_tokens': 49, 'prompt_tokens': 87, 'total_tokens': 136, 'completion_time': 0.094240614, 'prompt_time': 0.035484564, 'queue_time': 0.269124155, 'total_time': 0.129725178}, 'model_name': 'llama3-8b-8192', 'system_fingerprint': 'fp_8dc6ecaf8e', 'finish_reason': 'stop', 'logprobs': None}, id='run--611dc60a-cc80-4248-bf8b-40afc62c2beb-0', usage_metadata={'input_tokens': 87, 'output_tokens': 49, 'total_tokens': 136}),\n",
       "  HumanMessage(content='hey, what is my name', additional_kwargs={}, response_metadata={}, id='7308cce1-8b39-44eb-bbe2-8a419367635d'),\n",
       "  AIMessage(content='Your name is Jatindra Paul!', additional_kwargs={}, response_metadata={'token_usage': {'completion_tokens': 10, 'prompt_tokens': 151, 'total_tokens': 161, 'completion_time': 0.016596604, 'prompt_time': 0.020721382, 'queue_time': 0.368378257, 'total_time': 0.037317986}, 'model_name': 'llama3-8b-8192', 'system_fingerprint': 'fp_8dc6ecaf8e', 'finish_reason': 'stop', 'logprobs': None}, id='run--53a0efe2-726b-425d-8cf0-741ab1a70544-0', usage_metadata={'input_tokens': 151, 'output_tokens': 10, 'total_tokens': 161}),\n",
       "  HumanMessage(content='hey, what is my name', additional_kwargs={}, response_metadata={}, id='889d0bf5-b226-424d-a17c-5198717f2e98'),\n",
       "  AIMessage(content='Your name is Jatindra Paul!', additional_kwargs={}, response_metadata={'token_usage': {'completion_tokens': 10, 'prompt_tokens': 176, 'total_tokens': 186, 'completion_time': 0.019243567, 'prompt_time': 0.115477492, 'queue_time': 0.609276648, 'total_time': 0.134721059}, 'model_name': 'llama3-8b-8192', 'system_fingerprint': 'fp_8dc6ecaf8e', 'finish_reason': 'stop', 'logprobs': None}, id='run--fbf36265-6345-4bc7-936b-680264c06089-0', usage_metadata={'input_tokens': 176, 'output_tokens': 10, 'total_tokens': 186}),\n",
       "  HumanMessage(content='hey, what sport i like', additional_kwargs={}, response_metadata={}, id='97f0fac9-2f15-4089-859c-1672c720c93d'),\n",
       "  AIMessage(content='You like basketball!', additional_kwargs={}, response_metadata={'token_usage': {'completion_tokens': 5, 'prompt_tokens': 201, 'total_tokens': 206, 'completion_time': 0.004676613, 'prompt_time': 0.059043848, 'queue_time': 2.443023787, 'total_time': 0.063720461}, 'model_name': 'llama3-8b-8192', 'system_fingerprint': 'fp_8af39bf2ae', 'finish_reason': 'stop', 'logprobs': None}, id='run--313851fa-b9c9-4e38-9313-7b742dc7ce6e-0', usage_metadata={'input_tokens': 201, 'output_tokens': 5, 'total_tokens': 206}),\n",
       "  HumanMessage(content='hey, my name is jatindra paul and i like basketball', additional_kwargs={}, response_metadata={}, id='1ccfbef0-9eea-472d-b0f0-7f7fe9b2c92e'),\n",
       "  AIMessage(content=\"Classic! We've already established that your name is Jatindra Paul, and you like basketball!\", additional_kwargs={}, response_metadata={'token_usage': {'completion_tokens': 22, 'prompt_tokens': 229, 'total_tokens': 251, 'completion_time': 0.020315343, 'prompt_time': 0.053450816, 'queue_time': 0.27927473399999997, 'total_time': 0.073766159}, 'model_name': 'llama3-8b-8192', 'system_fingerprint': 'fp_8af39bf2ae', 'finish_reason': 'stop', 'logprobs': None}, id='run--0ffeb656-37bd-4ed5-89bc-af41f9353e2d-0', usage_metadata={'input_tokens': 229, 'output_tokens': 22, 'total_tokens': 251})]}"
      ]
     },
     "execution_count": 50,
     "metadata": {},
     "output_type": "execute_result"
    }
   ],
   "source": [
    "config = {\"configurable\":{\"thread_id\":\"1\"}}\n",
    "response = graph_with_memory.invoke({\"messages\": \"hey, my name is jatindra paul and i like basketball\"}, config=config)\n",
    "response"
   ]
  },
  {
   "cell_type": "markdown",
   "id": "198f4263",
   "metadata": {},
   "source": [
    "# Streaming\n",
    "- Methods: stream() and astream()\n",
    "    - these methods are sync and async methods for strweaming back results.\n",
    "\n",
    "- Additional parameters in streaming modes for graph state\n",
    "    - values: this streams the full state of the graph after each node is called.\n",
    "    - updates: This streams updates to the state of the graph after each node is called."
   ]
  },
  {
   "cell_type": "code",
   "execution_count": 53,
   "id": "43ae5bc1",
   "metadata": {},
   "outputs": [
    {
     "name": "stdout",
     "output_type": "stream",
     "text": [
      "{'superbot': {'messages': [AIMessage(content='You like basketball!', additional_kwargs={}, response_metadata={'token_usage': {'completion_tokens': 5, 'prompt_tokens': 311, 'total_tokens': 316, 'completion_time': 0.009872451, 'prompt_time': 0.164183365, 'queue_time': 0.47934517, 'total_time': 0.174055816}, 'model_name': 'llama3-8b-8192', 'system_fingerprint': 'fp_8dc6ecaf8e', 'finish_reason': 'stop', 'logprobs': None}, id='run--93a9a6c3-35b4-41f6-9a11-934f5eb18060-0', usage_metadata={'input_tokens': 311, 'output_tokens': 5, 'total_tokens': 316})]}}\n"
     ]
    }
   ],
   "source": [
    "#config = {\"configurable\":{\"thread_id\":\"3\"}}\n",
    "for chunk in graph_with_memory.invoke({\"messages\": \"hey, what sport i like\"}, config=config,stream_mode=\"updates\"):\n",
    "    print(chunk)"
   ]
  },
  {
   "cell_type": "code",
   "execution_count": 57,
   "id": "0f855a10",
   "metadata": {},
   "outputs": [
    {
     "name": "stdout",
     "output_type": "stream",
     "text": [
      "{'messages': [HumanMessage(content='hey, my name is jatindra paul and i like basketball', additional_kwargs={}, response_metadata={}, id='338474c0-8c11-4c24-94d8-068a183357bb'), AIMessage(content=\"Hey Jatindra Paul! Nice to meet you! That's awesome that you like basketball! What's your favorite team or player? Do you play basketball yourself or just enjoy watching it?\", additional_kwargs={}, response_metadata={'token_usage': {'completion_tokens': 40, 'prompt_tokens': 24, 'total_tokens': 64, 'completion_time': 0.067617506, 'prompt_time': 0.012709303, 'queue_time': 0.716732554, 'total_time': 0.080326809}, 'model_name': 'llama3-8b-8192', 'system_fingerprint': 'fp_8dc6ecaf8e', 'finish_reason': 'stop', 'logprobs': None}, id='run--6d83c1f6-25fe-44f7-b2e3-27cea1397c41-0', usage_metadata={'input_tokens': 24, 'output_tokens': 40, 'total_tokens': 64}), HumanMessage(content='hey, my name is jatindra paul and i like basketball', additional_kwargs={}, response_metadata={}, id='ec7dc1a1-90bc-4703-b928-8cf7caf01aef'), AIMessage(content=\"Hey Jatindra Paul! Nice to meet you again! So, you like basketball, huh? Do you have a favorite NBA team or player? Are you more into watching the games or playing them yourself? Let's talk hoops!\", additional_kwargs={}, response_metadata={'token_usage': {'completion_tokens': 49, 'prompt_tokens': 87, 'total_tokens': 136, 'completion_time': 0.094240614, 'prompt_time': 0.035484564, 'queue_time': 0.269124155, 'total_time': 0.129725178}, 'model_name': 'llama3-8b-8192', 'system_fingerprint': 'fp_8dc6ecaf8e', 'finish_reason': 'stop', 'logprobs': None}, id='run--611dc60a-cc80-4248-bf8b-40afc62c2beb-0', usage_metadata={'input_tokens': 87, 'output_tokens': 49, 'total_tokens': 136}), HumanMessage(content='hey, what is my name', additional_kwargs={}, response_metadata={}, id='7308cce1-8b39-44eb-bbe2-8a419367635d'), AIMessage(content='Your name is Jatindra Paul!', additional_kwargs={}, response_metadata={'token_usage': {'completion_tokens': 10, 'prompt_tokens': 151, 'total_tokens': 161, 'completion_time': 0.016596604, 'prompt_time': 0.020721382, 'queue_time': 0.368378257, 'total_time': 0.037317986}, 'model_name': 'llama3-8b-8192', 'system_fingerprint': 'fp_8dc6ecaf8e', 'finish_reason': 'stop', 'logprobs': None}, id='run--53a0efe2-726b-425d-8cf0-741ab1a70544-0', usage_metadata={'input_tokens': 151, 'output_tokens': 10, 'total_tokens': 161}), HumanMessage(content='hey, what is my name', additional_kwargs={}, response_metadata={}, id='889d0bf5-b226-424d-a17c-5198717f2e98'), AIMessage(content='Your name is Jatindra Paul!', additional_kwargs={}, response_metadata={'token_usage': {'completion_tokens': 10, 'prompt_tokens': 176, 'total_tokens': 186, 'completion_time': 0.019243567, 'prompt_time': 0.115477492, 'queue_time': 0.609276648, 'total_time': 0.134721059}, 'model_name': 'llama3-8b-8192', 'system_fingerprint': 'fp_8dc6ecaf8e', 'finish_reason': 'stop', 'logprobs': None}, id='run--fbf36265-6345-4bc7-936b-680264c06089-0', usage_metadata={'input_tokens': 176, 'output_tokens': 10, 'total_tokens': 186}), HumanMessage(content='hey, what sport i like', additional_kwargs={}, response_metadata={}, id='97f0fac9-2f15-4089-859c-1672c720c93d'), AIMessage(content='You like basketball!', additional_kwargs={}, response_metadata={'token_usage': {'completion_tokens': 5, 'prompt_tokens': 201, 'total_tokens': 206, 'completion_time': 0.004676613, 'prompt_time': 0.059043848, 'queue_time': 2.443023787, 'total_time': 0.063720461}, 'model_name': 'llama3-8b-8192', 'system_fingerprint': 'fp_8af39bf2ae', 'finish_reason': 'stop', 'logprobs': None}, id='run--313851fa-b9c9-4e38-9313-7b742dc7ce6e-0', usage_metadata={'input_tokens': 201, 'output_tokens': 5, 'total_tokens': 206}), HumanMessage(content='hey, my name is jatindra paul and i like basketball', additional_kwargs={}, response_metadata={}, id='1ccfbef0-9eea-472d-b0f0-7f7fe9b2c92e'), AIMessage(content=\"Classic! We've already established that your name is Jatindra Paul, and you like basketball!\", additional_kwargs={}, response_metadata={'token_usage': {'completion_tokens': 22, 'prompt_tokens': 229, 'total_tokens': 251, 'completion_time': 0.020315343, 'prompt_time': 0.053450816, 'queue_time': 0.27927473399999997, 'total_time': 0.073766159}, 'model_name': 'llama3-8b-8192', 'system_fingerprint': 'fp_8af39bf2ae', 'finish_reason': 'stop', 'logprobs': None}, id='run--0ffeb656-37bd-4ed5-89bc-af41f9353e2d-0', usage_metadata={'input_tokens': 229, 'output_tokens': 22, 'total_tokens': 251}), HumanMessage(content='hey, what sport i like', additional_kwargs={}, response_metadata={}, id='ea04278a-a6bd-42da-a17c-00d00944a2a0'), AIMessage(content='You like basketball!', additional_kwargs={}, response_metadata={'token_usage': {'completion_tokens': 5, 'prompt_tokens': 266, 'total_tokens': 271, 'completion_time': 0.012355641, 'prompt_time': 0.146891476, 'queue_time': 0.30068638300000006, 'total_time': 0.159247117}, 'model_name': 'llama3-8b-8192', 'system_fingerprint': 'fp_8b7c3a83f7', 'finish_reason': 'stop', 'logprobs': None}, id='run--c23f1dd8-5862-4258-96d2-73e99f20b14a-0', usage_metadata={'input_tokens': 266, 'output_tokens': 5, 'total_tokens': 271}), HumanMessage(content='hey, what is my name', additional_kwargs={}, response_metadata={}, id='3a542238-ac71-43c2-bcdc-4c39e899faef'), AIMessage(content='Your name is Jatindra Paul!', additional_kwargs={}, response_metadata={'token_usage': {'completion_tokens': 10, 'prompt_tokens': 286, 'total_tokens': 296, 'completion_time': 0.020054767, 'prompt_time': 0.034667258, 'queue_time': 0.27121279000000004, 'total_time': 0.054722025}, 'model_name': 'llama3-8b-8192', 'system_fingerprint': 'fp_8b7c3a83f7', 'finish_reason': 'stop', 'logprobs': None}, id='run--6ff86427-9bd9-44bf-844b-513ee7d29163-0', usage_metadata={'input_tokens': 286, 'output_tokens': 10, 'total_tokens': 296}), HumanMessage(content='hey, what sport i like', additional_kwargs={}, response_metadata={}, id='52dbe522-4e0c-4e46-b0ed-7dd1c5f8728b'), AIMessage(content='You like basketball!', additional_kwargs={}, response_metadata={'token_usage': {'completion_tokens': 5, 'prompt_tokens': 311, 'total_tokens': 316, 'completion_time': 0.009872451, 'prompt_time': 0.164183365, 'queue_time': 0.47934517, 'total_time': 0.174055816}, 'model_name': 'llama3-8b-8192', 'system_fingerprint': 'fp_8dc6ecaf8e', 'finish_reason': 'stop', 'logprobs': None}, id='run--93a9a6c3-35b4-41f6-9a11-934f5eb18060-0', usage_metadata={'input_tokens': 311, 'output_tokens': 5, 'total_tokens': 316}), HumanMessage(content='hey, what sport i like', additional_kwargs={}, response_metadata={}, id='a393542b-f7ea-40bb-a5a9-183b66f64591'), AIMessage(content='You like basketball!', additional_kwargs={}, response_metadata={'token_usage': {'completion_tokens': 5, 'prompt_tokens': 331, 'total_tokens': 336, 'completion_time': 0.012519908, 'prompt_time': 0.302752734, 'queue_time': 0.915378971, 'total_time': 0.315272642}, 'model_name': 'llama3-8b-8192', 'system_fingerprint': 'fp_8b7c3a83f7', 'finish_reason': 'stop', 'logprobs': None}, id='run--fae3262a-7b3c-4bd1-83a4-da93c3c4dc7f-0', usage_metadata={'input_tokens': 331, 'output_tokens': 5, 'total_tokens': 336}), HumanMessage(content='hey, what sport i like', additional_kwargs={}, response_metadata={}, id='300bfed8-338e-40ca-a126-a8fef92cc8c1'), AIMessage(content='You like basketball!', additional_kwargs={}, response_metadata={'token_usage': {'completion_tokens': 5, 'prompt_tokens': 351, 'total_tokens': 356, 'completion_time': 0.009595713, 'prompt_time': 0.099572362, 'queue_time': 0.9925333140000001, 'total_time': 0.109168075}, 'model_name': 'llama3-8b-8192', 'system_fingerprint': 'fp_8b7c3a83f7', 'finish_reason': 'stop', 'logprobs': None}, id='run--2c7bb1f3-9894-4043-b79c-3cfbe2eb3f3f-0', usage_metadata={'input_tokens': 351, 'output_tokens': 5, 'total_tokens': 356}), HumanMessage(content='hey, what sport i like', additional_kwargs={}, response_metadata={}, id='efcbf29c-3729-458e-8cc6-b78f793ae103'), AIMessage(content='You like basketball!', additional_kwargs={}, response_metadata={'token_usage': {'completion_tokens': 5, 'prompt_tokens': 371, 'total_tokens': 376, 'completion_time': 0.00490964, 'prompt_time': 0.090256272, 'queue_time': 0.27224643699999995, 'total_time': 0.095165912}, 'model_name': 'llama3-8b-8192', 'system_fingerprint': 'fp_8b7c3a83f7', 'finish_reason': 'stop', 'logprobs': None}, id='run--f7ea3b1e-5e81-450c-b9c1-140abab4821c-0', usage_metadata={'input_tokens': 371, 'output_tokens': 5, 'total_tokens': 376}), HumanMessage(content='hey, what is my name?', additional_kwargs={}, response_metadata={}, id='953b8e77-978c-4b1a-82f7-fb0ed5bc6a21')]}\n",
      "{'messages': [HumanMessage(content='hey, my name is jatindra paul and i like basketball', additional_kwargs={}, response_metadata={}, id='338474c0-8c11-4c24-94d8-068a183357bb'), AIMessage(content=\"Hey Jatindra Paul! Nice to meet you! That's awesome that you like basketball! What's your favorite team or player? Do you play basketball yourself or just enjoy watching it?\", additional_kwargs={}, response_metadata={'token_usage': {'completion_tokens': 40, 'prompt_tokens': 24, 'total_tokens': 64, 'completion_time': 0.067617506, 'prompt_time': 0.012709303, 'queue_time': 0.716732554, 'total_time': 0.080326809}, 'model_name': 'llama3-8b-8192', 'system_fingerprint': 'fp_8dc6ecaf8e', 'finish_reason': 'stop', 'logprobs': None}, id='run--6d83c1f6-25fe-44f7-b2e3-27cea1397c41-0', usage_metadata={'input_tokens': 24, 'output_tokens': 40, 'total_tokens': 64}), HumanMessage(content='hey, my name is jatindra paul and i like basketball', additional_kwargs={}, response_metadata={}, id='ec7dc1a1-90bc-4703-b928-8cf7caf01aef'), AIMessage(content=\"Hey Jatindra Paul! Nice to meet you again! So, you like basketball, huh? Do you have a favorite NBA team or player? Are you more into watching the games or playing them yourself? Let's talk hoops!\", additional_kwargs={}, response_metadata={'token_usage': {'completion_tokens': 49, 'prompt_tokens': 87, 'total_tokens': 136, 'completion_time': 0.094240614, 'prompt_time': 0.035484564, 'queue_time': 0.269124155, 'total_time': 0.129725178}, 'model_name': 'llama3-8b-8192', 'system_fingerprint': 'fp_8dc6ecaf8e', 'finish_reason': 'stop', 'logprobs': None}, id='run--611dc60a-cc80-4248-bf8b-40afc62c2beb-0', usage_metadata={'input_tokens': 87, 'output_tokens': 49, 'total_tokens': 136}), HumanMessage(content='hey, what is my name', additional_kwargs={}, response_metadata={}, id='7308cce1-8b39-44eb-bbe2-8a419367635d'), AIMessage(content='Your name is Jatindra Paul!', additional_kwargs={}, response_metadata={'token_usage': {'completion_tokens': 10, 'prompt_tokens': 151, 'total_tokens': 161, 'completion_time': 0.016596604, 'prompt_time': 0.020721382, 'queue_time': 0.368378257, 'total_time': 0.037317986}, 'model_name': 'llama3-8b-8192', 'system_fingerprint': 'fp_8dc6ecaf8e', 'finish_reason': 'stop', 'logprobs': None}, id='run--53a0efe2-726b-425d-8cf0-741ab1a70544-0', usage_metadata={'input_tokens': 151, 'output_tokens': 10, 'total_tokens': 161}), HumanMessage(content='hey, what is my name', additional_kwargs={}, response_metadata={}, id='889d0bf5-b226-424d-a17c-5198717f2e98'), AIMessage(content='Your name is Jatindra Paul!', additional_kwargs={}, response_metadata={'token_usage': {'completion_tokens': 10, 'prompt_tokens': 176, 'total_tokens': 186, 'completion_time': 0.019243567, 'prompt_time': 0.115477492, 'queue_time': 0.609276648, 'total_time': 0.134721059}, 'model_name': 'llama3-8b-8192', 'system_fingerprint': 'fp_8dc6ecaf8e', 'finish_reason': 'stop', 'logprobs': None}, id='run--fbf36265-6345-4bc7-936b-680264c06089-0', usage_metadata={'input_tokens': 176, 'output_tokens': 10, 'total_tokens': 186}), HumanMessage(content='hey, what sport i like', additional_kwargs={}, response_metadata={}, id='97f0fac9-2f15-4089-859c-1672c720c93d'), AIMessage(content='You like basketball!', additional_kwargs={}, response_metadata={'token_usage': {'completion_tokens': 5, 'prompt_tokens': 201, 'total_tokens': 206, 'completion_time': 0.004676613, 'prompt_time': 0.059043848, 'queue_time': 2.443023787, 'total_time': 0.063720461}, 'model_name': 'llama3-8b-8192', 'system_fingerprint': 'fp_8af39bf2ae', 'finish_reason': 'stop', 'logprobs': None}, id='run--313851fa-b9c9-4e38-9313-7b742dc7ce6e-0', usage_metadata={'input_tokens': 201, 'output_tokens': 5, 'total_tokens': 206}), HumanMessage(content='hey, my name is jatindra paul and i like basketball', additional_kwargs={}, response_metadata={}, id='1ccfbef0-9eea-472d-b0f0-7f7fe9b2c92e'), AIMessage(content=\"Classic! We've already established that your name is Jatindra Paul, and you like basketball!\", additional_kwargs={}, response_metadata={'token_usage': {'completion_tokens': 22, 'prompt_tokens': 229, 'total_tokens': 251, 'completion_time': 0.020315343, 'prompt_time': 0.053450816, 'queue_time': 0.27927473399999997, 'total_time': 0.073766159}, 'model_name': 'llama3-8b-8192', 'system_fingerprint': 'fp_8af39bf2ae', 'finish_reason': 'stop', 'logprobs': None}, id='run--0ffeb656-37bd-4ed5-89bc-af41f9353e2d-0', usage_metadata={'input_tokens': 229, 'output_tokens': 22, 'total_tokens': 251}), HumanMessage(content='hey, what sport i like', additional_kwargs={}, response_metadata={}, id='ea04278a-a6bd-42da-a17c-00d00944a2a0'), AIMessage(content='You like basketball!', additional_kwargs={}, response_metadata={'token_usage': {'completion_tokens': 5, 'prompt_tokens': 266, 'total_tokens': 271, 'completion_time': 0.012355641, 'prompt_time': 0.146891476, 'queue_time': 0.30068638300000006, 'total_time': 0.159247117}, 'model_name': 'llama3-8b-8192', 'system_fingerprint': 'fp_8b7c3a83f7', 'finish_reason': 'stop', 'logprobs': None}, id='run--c23f1dd8-5862-4258-96d2-73e99f20b14a-0', usage_metadata={'input_tokens': 266, 'output_tokens': 5, 'total_tokens': 271}), HumanMessage(content='hey, what is my name', additional_kwargs={}, response_metadata={}, id='3a542238-ac71-43c2-bcdc-4c39e899faef'), AIMessage(content='Your name is Jatindra Paul!', additional_kwargs={}, response_metadata={'token_usage': {'completion_tokens': 10, 'prompt_tokens': 286, 'total_tokens': 296, 'completion_time': 0.020054767, 'prompt_time': 0.034667258, 'queue_time': 0.27121279000000004, 'total_time': 0.054722025}, 'model_name': 'llama3-8b-8192', 'system_fingerprint': 'fp_8b7c3a83f7', 'finish_reason': 'stop', 'logprobs': None}, id='run--6ff86427-9bd9-44bf-844b-513ee7d29163-0', usage_metadata={'input_tokens': 286, 'output_tokens': 10, 'total_tokens': 296}), HumanMessage(content='hey, what sport i like', additional_kwargs={}, response_metadata={}, id='52dbe522-4e0c-4e46-b0ed-7dd1c5f8728b'), AIMessage(content='You like basketball!', additional_kwargs={}, response_metadata={'token_usage': {'completion_tokens': 5, 'prompt_tokens': 311, 'total_tokens': 316, 'completion_time': 0.009872451, 'prompt_time': 0.164183365, 'queue_time': 0.47934517, 'total_time': 0.174055816}, 'model_name': 'llama3-8b-8192', 'system_fingerprint': 'fp_8dc6ecaf8e', 'finish_reason': 'stop', 'logprobs': None}, id='run--93a9a6c3-35b4-41f6-9a11-934f5eb18060-0', usage_metadata={'input_tokens': 311, 'output_tokens': 5, 'total_tokens': 316}), HumanMessage(content='hey, what sport i like', additional_kwargs={}, response_metadata={}, id='a393542b-f7ea-40bb-a5a9-183b66f64591'), AIMessage(content='You like basketball!', additional_kwargs={}, response_metadata={'token_usage': {'completion_tokens': 5, 'prompt_tokens': 331, 'total_tokens': 336, 'completion_time': 0.012519908, 'prompt_time': 0.302752734, 'queue_time': 0.915378971, 'total_time': 0.315272642}, 'model_name': 'llama3-8b-8192', 'system_fingerprint': 'fp_8b7c3a83f7', 'finish_reason': 'stop', 'logprobs': None}, id='run--fae3262a-7b3c-4bd1-83a4-da93c3c4dc7f-0', usage_metadata={'input_tokens': 331, 'output_tokens': 5, 'total_tokens': 336}), HumanMessage(content='hey, what sport i like', additional_kwargs={}, response_metadata={}, id='300bfed8-338e-40ca-a126-a8fef92cc8c1'), AIMessage(content='You like basketball!', additional_kwargs={}, response_metadata={'token_usage': {'completion_tokens': 5, 'prompt_tokens': 351, 'total_tokens': 356, 'completion_time': 0.009595713, 'prompt_time': 0.099572362, 'queue_time': 0.9925333140000001, 'total_time': 0.109168075}, 'model_name': 'llama3-8b-8192', 'system_fingerprint': 'fp_8b7c3a83f7', 'finish_reason': 'stop', 'logprobs': None}, id='run--2c7bb1f3-9894-4043-b79c-3cfbe2eb3f3f-0', usage_metadata={'input_tokens': 351, 'output_tokens': 5, 'total_tokens': 356}), HumanMessage(content='hey, what sport i like', additional_kwargs={}, response_metadata={}, id='efcbf29c-3729-458e-8cc6-b78f793ae103'), AIMessage(content='You like basketball!', additional_kwargs={}, response_metadata={'token_usage': {'completion_tokens': 5, 'prompt_tokens': 371, 'total_tokens': 376, 'completion_time': 0.00490964, 'prompt_time': 0.090256272, 'queue_time': 0.27224643699999995, 'total_time': 0.095165912}, 'model_name': 'llama3-8b-8192', 'system_fingerprint': 'fp_8b7c3a83f7', 'finish_reason': 'stop', 'logprobs': None}, id='run--f7ea3b1e-5e81-450c-b9c1-140abab4821c-0', usage_metadata={'input_tokens': 371, 'output_tokens': 5, 'total_tokens': 376}), HumanMessage(content='hey, what is my name?', additional_kwargs={}, response_metadata={}, id='953b8e77-978c-4b1a-82f7-fb0ed5bc6a21'), AIMessage(content='Your name is Jatindra Paul!', additional_kwargs={}, response_metadata={'token_usage': {'completion_tokens': 10, 'prompt_tokens': 392, 'total_tokens': 402, 'completion_time': 0.009191629, 'prompt_time': 0.043931444, 'queue_time': 0.267931615, 'total_time': 0.053123073}, 'model_name': 'llama3-8b-8192', 'system_fingerprint': 'fp_8dc6ecaf8e', 'finish_reason': 'stop', 'logprobs': None}, id='run--387d3927-4801-462a-803f-ec3deca8ee92-0', usage_metadata={'input_tokens': 392, 'output_tokens': 10, 'total_tokens': 402})]}\n"
     ]
    }
   ],
   "source": [
    "#for values parameter\n",
    "for chunk in graph_with_memory.stream({\"messages\": \"hey, what is my name?\"}, config=config,stream_mode=\"values\"):\n",
    "    print(chunk)"
   ]
  },
  {
   "cell_type": "markdown",
   "id": "fc89f6b8",
   "metadata": {},
   "source": [
    "# Human in the loop"
   ]
  },
  {
   "cell_type": "code",
   "execution_count": 61,
   "id": "8b277f05",
   "metadata": {},
   "outputs": [
    {
     "name": "stderr",
     "output_type": "stream",
     "text": [
      "d:\\GenAi_project\\AgenticAi_chatbot_using_tavily\\.venv\\Lib\\site-packages\\langchain_groq\\chat_models.py:370: UserWarning: WARNING! top_p is not default parameter.\n",
      "                    top_p was transferred to model_kwargs.\n",
      "                    Please confirm that top_p is what you intended.\n",
      "  warnings.warn(\n",
      "d:\\GenAi_project\\AgenticAi_chatbot_using_tavily\\.venv\\Lib\\site-packages\\langchain_groq\\chat_models.py:370: UserWarning: WARNING! top_k is not default parameter.\n",
      "                    top_k was transferred to model_kwargs.\n",
      "                    Please confirm that top_k is what you intended.\n",
      "  warnings.warn(\n"
     ]
    },
    {
     "data": {
      "text/plain": [
       "ChatGroq(client=<groq.resources.chat.completions.Completions object at 0x00000256EE539F90>, async_client=<groq.resources.chat.completions.AsyncCompletions object at 0x00000256EE53A990>, model_name='llama3-8b-8192', temperature=0.1, model_kwargs={'top_p': 0.9, 'top_k': 40}, groq_api_key=SecretStr('**********'), max_tokens=512)"
      ]
     },
     "execution_count": 61,
     "metadata": {},
     "output_type": "execute_result"
    }
   ],
   "source": [
    "import os\n",
    "from langchain.chat_models import init_chat_model\n",
    "llm = init_chat_model(\n",
    "    \"groq:llama3-8b-8192\",\n",
    "    temperature=0.1,\n",
    "    max_tokens=512,\n",
    "    top_p=0.9,\n",
    "    top_k=40,\n",
    "    groq_api_key=os.getenv(\"GROQ_API_KEY\"),\n",
    ")\n",
    "llm"
   ]
  },
  {
   "cell_type": "code",
   "execution_count": null,
   "id": "95db7700",
   "metadata": {},
   "outputs": [],
   "source": [
    "from typing import Annotated\n",
    "\n",
    "from langchain_tavily import TavilySearch\n",
    "from langchain_core.tools import tool\n",
    "from typing_extensions import TypedDict\n",
    "\n",
    "from langgraph.checkpoint.memory import MemorySaver\n",
    "from langgraph.graph import StateGraph, START, END\n",
    "from langgraph.graph.message import add_messages\n",
    "from langgraph.prebuilt import ToolNode, tools_condition\n",
    "\n",
    "from langgraph.types import Command, interrupt\n",
    "\n",
    "class State(TypedDict):\n",
    "    messages: Annotated[list[str], add_messages]\n",
    "\n",
    "graph = StateGraph(State)\n",
    "\n",
    "@tool\n",
    "def human_assistance(query: str,) -> str:\n",
    "    \"\"\"A tool to get request human assistance.\"\"\"\n",
    "    human_response = interrupt({\"query\": query})\n",
    "    return human_response[\"data\"]\n",
    "\n",
    "tool = TavilySearch(max_results=2)\n",
    "tools = [tool, human_assistance]\n",
    "llm_with_tools = llm.bind_tools(tools)\n",
    "\n",
    "def chatbot(state:State):\n",
    "    #This function is called when the user sends a message.\n",
    "    #It appends the message to the list of messages in the state.\n",
    "    message = [llm_with_tools.invoke(state[\"messages\"])]\n",
    "\n",
    "    return {\"messages\": [message]}\n",
    "\n",
    "graph.add_node(\"chatbot\", chatbot)\n",
    "\n",
    "tool_node = ToolNode(tools)\n",
    "graph.add_node(\"tools\", tool_node)\n",
    "\n",
    "# Add edges to the graph\n",
    "graph.add_conditional_edges(\"chatbot\")\n",
    "\n"
   ]
  }
 ],
 "metadata": {
  "kernelspec": {
   "display_name": ".venv",
   "language": "python",
   "name": "python3"
  },
  "language_info": {
   "codemirror_mode": {
    "name": "ipython",
    "version": 3
   },
   "file_extension": ".py",
   "mimetype": "text/x-python",
   "name": "python",
   "nbconvert_exporter": "python",
   "pygments_lexer": "ipython3",
   "version": "3.13.4"
  }
 },
 "nbformat": 4,
 "nbformat_minor": 5
}
